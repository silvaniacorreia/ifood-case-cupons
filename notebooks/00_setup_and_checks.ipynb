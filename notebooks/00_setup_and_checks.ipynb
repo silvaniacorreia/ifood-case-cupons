{
 "cells": [
  {
   "cell_type": "markdown",
   "id": "095264b7",
   "metadata": {},
   "source": [
    "# Setup e Checagens\n",
    "\n",
    "Notebook para a configuração inicial de ambiente para execução de tarefas com Apache Spark. Etapas:\n",
    "- Carrega as configurações do projeto;\n",
    "- Define as seeds para garantir reprodutibilidade dos experimentos;\n",
    "- Inicializa uma sessão Spark personalizada conforme os parâmetros definidos. \n",
    "\n",
    "Ao final, exibe uma amostra de dados gerados pelo Spark e encerra a sessão."
   ]
  },
  {
   "cell_type": "code",
   "execution_count": 1,
   "id": "e62f7deb",
   "metadata": {},
   "outputs": [
    {
     "name": "stdout",
     "output_type": "stream",
     "text": [
      "Execução local. Raiz do projeto: C:\\Users\\silva\\OneDrive\\Documentos\\portfólio\\ifood-case-cupons\n"
     ]
    }
   ],
   "source": [
    "# --- Bootstrap (Colab + Local) com persistência no Drive e detecção da raiz do repo ---\n",
    "import os, sys, subprocess, shutil\n",
    "from pathlib import Path\n",
    "\n",
    "GITHUB_USER = \"silvaniacorreia\"\n",
    "REPO_NAME   = \"ifood-case-cupons\"\n",
    "REPO_URL    = f\"https://github.com/{GITHUB_USER}/{REPO_NAME}.git\"\n",
    "\n",
    "IN_COLAB = \"COLAB_RELEASE_TAG\" in os.environ or \"COLAB_GPU\" in os.environ\n",
    "PERSIST_ON_DRIVE = True \n",
    "\n",
    "def run(cmd):\n",
    "    print(\">\", \" \".join(cmd))\n",
    "    subprocess.check_call(cmd)\n",
    "\n",
    "def find_project_root(start: Path = None) -> Path:\n",
    "    \"\"\"Sobe diretórios até achar requirements.txt e src/utils.py.\"\"\"\n",
    "    start = start or Path.cwd().resolve()\n",
    "    for p in [start] + list(start.parents):\n",
    "        if (p / \"requirements.txt\").exists() and (p / \"src\" / \"utils.py\").exists():\n",
    "            return p\n",
    "    return start \n",
    "\n",
    "if IN_COLAB:\n",
    "    if PERSIST_ON_DRIVE:\n",
    "        from google.colab import drive\n",
    "        drive.mount(\"/content/drive\", force_remount=False)\n",
    "\n",
    "    CONTENT_DIR = Path(\"/content\")\n",
    "    PROJECT_DIR = CONTENT_DIR / REPO_NAME\n",
    "    if not PROJECT_DIR.exists():\n",
    "        run([\"git\", \"clone\", REPO_URL, str(PROJECT_DIR)])\n",
    "    else:\n",
    "        os.chdir(PROJECT_DIR)\n",
    "        run([\"git\", \"fetch\", \"--all\"])\n",
    "        run([\"git\", \"checkout\", \"main\"])\n",
    "        run([\"git\", \"pull\", \"--rebase\", \"origin\", \"main\"])\n",
    "    os.chdir(PROJECT_DIR)\n",
    "\n",
    "    if PERSIST_ON_DRIVE:\n",
    "        DRIVE_PROJ = Path(\"/content/drive/MyDrive\") / REPO_NAME\n",
    "        DRIVE_DATA = DRIVE_PROJ / \"data\"\n",
    "        DRIVE_PROJ.mkdir(parents=True, exist_ok=True)\n",
    "        DRIVE_DATA.mkdir(parents=True, exist_ok=True)\n",
    "        LOCAL_DATA = PROJECT_DIR / \"data\"\n",
    "        if not LOCAL_DATA.is_symlink():\n",
    "            if LOCAL_DATA.exists() and any(LOCAL_DATA.iterdir()):\n",
    "                for p in LOCAL_DATA.iterdir():\n",
    "                    dst = DRIVE_DATA / p.name\n",
    "                    if p.is_dir():\n",
    "                        shutil.copytree(p, dst, dirs_exist_ok=True)\n",
    "                    else:\n",
    "                        shutil.copy2(p, dst)\n",
    "                shutil.rmtree(LOCAL_DATA)\n",
    "            os.symlink(str(DRIVE_DATA), str(LOCAL_DATA), target_is_directory=True)\n",
    "\n",
    "    run([sys.executable, \"-m\", \"pip\", \"install\", \"-r\", \"requirements.txt\"])\n",
    "    run([sys.executable, \"scripts/download_data.py\"])\n",
    "\n",
    "    if str(PROJECT_DIR) not in sys.path:\n",
    "        sys.path.insert(0, str(PROJECT_DIR))\n",
    "    print(\"✔️ Bootstrap concluído (Colab). Projeto:\", PROJECT_DIR)\n",
    "\n",
    "else:\n",
    "    PROJECT_DIR = find_project_root(Path.cwd().resolve())\n",
    "    os.chdir(PROJECT_DIR)  # <- garante que estamos na raiz do repo\n",
    "    if str(PROJECT_DIR) not in sys.path:\n",
    "        sys.path.insert(0, str(PROJECT_DIR))\n",
    "    print(\"Execução local. Raiz do projeto:\", PROJECT_DIR)\n"
   ]
  },
  {
   "cell_type": "code",
   "execution_count": 2,
   "id": "52dd7993",
   "metadata": {},
   "outputs": [
    {
     "name": "stdout",
     "output_type": "stream",
     "text": [
      "Baixando/extraindo dados (scripts/download_data.py)...\n",
      "✔️ Dados prontos em data/raw/\n"
     ]
    }
   ],
   "source": [
    "# Download dos dados brutos\n",
    "import sys, subprocess\n",
    "\n",
    "print(\"Baixando/extraindo dados (scripts/download_data.py)...\")\n",
    "subprocess.check_call([sys.executable, \"scripts/download_data.py\"])\n",
    "print(\"✔️ Dados prontos em data/raw/\")"
   ]
  },
  {
   "cell_type": "code",
   "execution_count": 3,
   "id": "fc9ee957",
   "metadata": {},
   "outputs": [
    {
     "name": "stdout",
     "output_type": "stream",
     "text": [
      "Spark OK: 3.5.1\n",
      "+---+\n",
      "| id|\n",
      "+---+\n",
      "|  0|\n",
      "|  1|\n",
      "|  2|\n",
      "|  3|\n",
      "|  4|\n",
      "+---+\n",
      "\n"
     ]
    }
   ],
   "source": [
    "# Teste do Spark\n",
    "from src.utils import load_settings, set_seeds, get_spark, stop_spark\n",
    "\n",
    "s = load_settings()                   # lê config (settings.yaml)\n",
    "set_seeds(s.runtime.seed)             # fixa seeds para reprodutibilidade\n",
    "spark = get_spark(\n",
    "    app_name=s.runtime.spark.app_name,\n",
    "    shuffle_partitions=s.runtime.spark.shuffle_partitions,\n",
    ")\n",
    "print(\"Spark OK:\", spark.version)\n",
    "spark.range(5).show()\n",
    "stop_spark(spark)\n"
   ]
  }
 ],
 "metadata": {
  "kernelspec": {
   "display_name": "Python 3",
   "language": "python",
   "name": "python3"
  },
  "language_info": {
   "codemirror_mode": {
    "name": "ipython",
    "version": 3
   },
   "file_extension": ".py",
   "mimetype": "text/x-python",
   "name": "python",
   "nbconvert_exporter": "python",
   "pygments_lexer": "ipython3",
   "version": "3.12.2"
  }
 },
 "nbformat": 4,
 "nbformat_minor": 5
}
