{
 "cells": [
  {
   "cell_type": "markdown",
   "id": "095264b7",
   "metadata": {},
   "source": [
    "# Setup e Checagens\n",
    "\n",
    "Notebook para a configuração inicial de ambiente para execução de tarefas com Apache Spark. Etapas:\n",
    "- Carrega as configurações do projeto;\n",
    "- Define as seeds para garantir reprodutibilidade dos experimentos;\n",
    "- Inicializa uma sessão Spark personalizada conforme os parâmetros definidos. \n",
    "\n",
    "Ao final, exibe uma amostra de dados gerados pelo Spark e encerra a sessão."
   ]
  },
  {
   "cell_type": "code",
   "execution_count": 9,
   "id": "52dd7993",
   "metadata": {},
   "outputs": [
    {
     "name": "stdout",
     "output_type": "stream",
     "text": [
      "Baixando/extraindo dados (scripts/download_data.py)...\n",
      "✔️ Dados prontos em data/raw/\n"
     ]
    }
   ],
   "source": [
    "import os, sys, subprocess\n",
    "from pathlib import Path\n",
    "\n",
    "GITHUB_USER = \"silvaniacorreia\"\n",
    "REPO_NAME   = \"ifood-case-cupons\"\n",
    "\n",
    "IN_COLAB = \"COLAB_RELEASE_TAG\" in os.environ or \"COLAB_GPU\" in os.environ\n",
    "\n",
    "if IN_COLAB:\n",
    "    PROJECT_DIR = Path(\"/content\") / REPO_NAME\n",
    "    if not PROJECT_DIR.exists():\n",
    "        print(f\"Clonando https://github.com/{GITHUB_USER}/{REPO_NAME}.git ...\")\n",
    "        subprocess.check_call([\n",
    "            \"git\", \"clone\", f\"https://github.com/{GITHUB_USER}/{REPO_NAME}.git\", str(PROJECT_DIR)\n",
    "        ])\n",
    "    os.chdir(PROJECT_DIR)\n",
    "else:\n",
    "    PROJECT_DIR = Path.cwd()\n",
    "    if not (PROJECT_DIR / \"requirements.txt\").exists():\n",
    "        if PROJECT_DIR.name == \"notebooks\" and (PROJECT_DIR.parent / \"requirements.txt\").exists():\n",
    "            os.chdir(PROJECT_DIR.parent)\n",
    "            PROJECT_DIR = PROJECT_DIR.parent\n",
    "        else:\n",
    "            raise RuntimeError(\"Abra o Jupyter na RAIZ do projeto (onde está requirements.txt).\")\n",
    "\n",
    "if str(PROJECT_DIR) not in sys.path:\n",
    "    sys.path.insert(0, str(PROJECT_DIR))\n",
    "\n",
    "if IN_COLAB:\n",
    "    print(\"Instalando dependências (requirements.txt)...\")\n",
    "    subprocess.check_call([sys.executable, \"-m\", \"pip\", \"install\", \"-q\", \"-r\", \"requirements.txt\"])\n",
    "\n",
    "print(\"Baixando/extraindo dados (scripts/download_data.py)...\")\n",
    "subprocess.check_call([sys.executable, \"scripts/download_data.py\"])\n",
    "print(\"✔️ Dados prontos em data/raw/\")"
   ]
  },
  {
   "cell_type": "code",
   "execution_count": 10,
   "id": "fc9ee957",
   "metadata": {},
   "outputs": [
    {
     "name": "stdout",
     "output_type": "stream",
     "text": [
      "Spark OK: 3.5.1\n",
      "+---+\n",
      "| id|\n",
      "+---+\n",
      "|  0|\n",
      "|  1|\n",
      "|  2|\n",
      "|  3|\n",
      "|  4|\n",
      "+---+\n",
      "\n"
     ]
    }
   ],
   "source": [
    "from src.utils import load_settings, set_seeds, get_spark, stop_spark\n",
    "\n",
    "s = load_settings()                   # lê config (settings.yaml)\n",
    "set_seeds(s.runtime.seed)             # fixa seeds para reprodutibilidade\n",
    "spark = get_spark(\n",
    "    app_name=s.runtime.spark.app_name,\n",
    "    shuffle_partitions=s.runtime.spark.shuffle_partitions,\n",
    ")\n",
    "print(\"Spark OK:\", spark.version)\n",
    "spark.range(5).show()\n",
    "stop_spark(spark)\n"
   ]
  }
 ],
 "metadata": {
  "kernelspec": {
   "display_name": "Python 3",
   "language": "python",
   "name": "python3"
  },
  "language_info": {
   "codemirror_mode": {
    "name": "ipython",
    "version": 3
   },
   "file_extension": ".py",
   "mimetype": "text/x-python",
   "name": "python",
   "nbconvert_exporter": "python",
   "pygments_lexer": "ipython3",
   "version": "3.12.2"
  }
 },
 "nbformat": 4,
 "nbformat_minor": 5
}
